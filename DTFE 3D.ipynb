{
 "cells": [
  {
   "cell_type": "markdown",
   "id": "plastic-support",
   "metadata": {},
   "source": [
    "# Delaunay Tesselation Field Estimator in 3D"
   ]
  },
  {
   "cell_type": "code",
   "execution_count": 1,
   "id": "expected-triangle",
   "metadata": {},
   "outputs": [],
   "source": [
    "#Load the numpy and scipy libraries\n",
    "import numpy as np\n",
    "from scipy.spatial import Delaunay\n",
    "import numba\n",
    "from numba import float32, float64, int64\n",
    "from typing import Union\n",
    "\n",
    "@numba.jit(nopython=True, nogil=True)\n",
    "def tetrahedron_volume(sim: int64[:], points: float64[:,:]):\n",
    "    return abs(np.linalg.det(np.stack((points[sim[1]] - points[sim[0]], \n",
    "                                       points[sim[2]] - points[sim[0]],\n",
    "                                       points[sim[3]] - points[sim[0]])))) / 6\n",
    "\n",
    "@numba.jit(nopython=True, nogil=True)\n",
    "def compute_densities(pts: float64[:,:], simps: float64[:,:],\n",
    "                      m: Union[float64, float64[:]]) -> np.ndarray:\n",
    "    M = len(pts)\n",
    "    rho = np.zeros(M, dtype='float64')\n",
    "    for sim in simps:\n",
    "        vol = tetrahedron_volume(sim, pts)\n",
    "        for index in sim:\n",
    "            rho[index] += vol\n",
    "    return (3 + 1) * m / rho\n",
    "\n",
    "@numba.jit(nopython=True, nogil=True)\n",
    "def compute_gradients(pts: float64[:,:], simps: float64[:,:], rho: float64[:],\n",
    "                      v: float64[:,:]) -> tuple[np.ndarray, np.ndarray]:\n",
    "    N = len(simps)\n",
    "    Drho = np.zeros((N, 3), dtype='float64')\n",
    "    Dv   = np.zeros((N, 3, 3), dtype='float64')\n",
    "\n",
    "    for i, s in enumerate(simps):\n",
    "        [p0, p1, p2, p3] = pts[s]\n",
    "        [r0, r1, r2, r3] = rho[s]\n",
    "        [v0, v1, v2, v3] = v[s]\n",
    "\n",
    "        Ainv: float64[:,:] = np.linalg.inv(np.stack((p1 - p0, p2 - p0, p3 - p0)))\n",
    "        Drho[i] = Ainv @ np.array([r1 - r0, r2 - r0, r3 - r0])\n",
    "        Dv[i] = Ainv @ np.stack((v1 - v0, v2 - v0, v3 - v0))\n",
    "    return (Drho, Dv)\n",
    "\n",
    "@numba.jit(nopython=True, nogil=True)\n",
    "def map_affine(a, b, c):\n",
    "    assert(len(a) == len(b) == len(c))\n",
    "    result = np.zeros_like(a)\n",
    "    for i in range(len(a)):\n",
    "        result[i] = a[i] + b[i] @ c[i]\n",
    "    return result\n",
    "\n",
    "#The Delaunay Tesselation Field Estimator \n",
    "class DTFE:\n",
    "    def __init__(self, points, velocities, m):\n",
    "        print(\"Delaunay Tesselation Field Estimator initialization:\")\n",
    "        self.velocities = velocities\n",
    "        print(\"\\t-Evaluate Delaunay tessellation\")\n",
    "        self.delaunay = Delaunay(points)\n",
    "        \n",
    "        #Area of a triangle\n",
    "        \n",
    "        #The density estimate\n",
    "        print(\"\\t-Evaluate density estimate\")\n",
    "        self.rho = compute_densities(self.delaunay.points, self.delaunay.simplices, m)\n",
    "        #The gradients\n",
    "        print(\"\\t-Evaluate gradients\")\n",
    "        self.Drho, self.Dv = compute_gradients(self.delaunay.points, self.delaunay.simplices,\n",
    "                                               self.rho, self.velocities)\n",
    "\n",
    "    #The interpolations\n",
    "    def density(self, x, y, z):\n",
    "        simplexIndex = self.delaunay.find_simplex(np.c_[x, y, z])\n",
    "        pointIndex   = self.delaunay.simplices[simplexIndex][...,0]\n",
    "        return map_affine(self.rho[pointIndex], self.Drho[simplexIndex],\n",
    "                          np.c_[x, y, z] - self.delaunay.points[pointIndex])\n",
    "\n",
    "    def v(self, x, y, z):\n",
    "        simplexIndex = self.delaunay.find_simplex(np.c_[x, y, z])\n",
    "        pointIndex   = self.delaunay.simplices[simplexIndex][...,0]\n",
    "        return map_affine(self.velocities[pointIndex], self.Dv[simplexIndex],\n",
    "                          np.c_[x, y, z] - self.delaunay.points[pointIndex])\n",
    "    \n",
    "    def gradV(self, x, y, z):\n",
    "        return self.Dv[self.delaunay.find_simplex(np.c_[x, y, z])]\n",
    "\n",
    "    def theta(self, x, y, z):\n",
    "        simplexIndex = self.delaunay.find_simplex(np.c_[x, y, z])\n",
    "        return (self.Dv[simplexIndex][...,0,0] + \n",
    "                self.Dv[simplexIndex][...,1,1] + \n",
    "                self.Dv[simplexIndex][...,2,2])\n",
    "\n",
    "    def sigma(self, x, y, z):\n",
    "        simplexIndex = self.delaunay.find_simplex(np.c_[x, y, z])\n",
    "        Dv = self.Dv[simplexIndex]\n",
    "        theta = Dv[...,0,0] + Dv[...,1,1] + Dv[...,2,2]\n",
    "        return np.array([[Dv[...,0,0] - theta / 3       , (Dv[...,0,1] + Dv[...,1,0]) / 2, (Dv[...,0,2] + Dv[...,2,0]) / 2],\n",
    "                        [(Dv[...,1,0] + Dv[...,0,1]) / 2,  Dv[...,1,1] - theta / 3       , (Dv[...,1,2] + Dv[...,2,1]) / 2],\n",
    "                        [(Dv[...,2,0] + Dv[...,0,2]) / 2, (Dv[...,2,1] + Dv[...,1,2]) / 2,  Dv[...,2,2] - theta / 3       ]]) \n",
    "    \n",
    "    def omega(self, x, y, z):\n",
    "        simplexIndex = self.delaunay.find_simplex(np.c_[x, y, z])\n",
    "        Dv = self.Dv[simplexIndex]\n",
    "        zeros = np.zeros(len(simplexIndex))\n",
    "        return (np.array([[zeros, (Dv[...,0,1] - Dv[...,1,0]) / 2, (Dv[...,0,2] - Dv[...,2,0]) / 2],\n",
    "                          [(Dv[...,1,0] - Dv[...,0,1]) / 2, zeros, (Dv[...,1,2] - Dv[...,2,1]) / 2],\n",
    "                          [(Dv[...,2,0] - Dv[...,0,2]) / 2, (Dv[...,2,1] - Dv[...,1,2]) / 2, zeros]])) "
   ]
  },
  {
   "cell_type": "markdown",
   "id": "operational-principle",
   "metadata": {},
   "source": [
    "Gaussian random field"
   ]
  },
  {
   "cell_type": "code",
   "execution_count": 2,
   "id": "according-sewing",
   "metadata": {},
   "outputs": [],
   "source": [
    "L = 128\n",
    "sigma = 10\n",
    "\n",
    "def power(k, gamma):\n",
    "    return k**gamma\n",
    "\n",
    "def GRF(L, gamma, sigma):\n",
    "    kRange = 2 * np.pi * np.fft.fftfreq(L)\n",
    "    kx, ky, kz = np.meshgrid(kRange, kRange, kRange)\n",
    "    k2 = kx**2 + ky**2 + kz**2\n",
    "    smooth_kernel = np.exp(- sigma ** 2 * k2 / 2)\n",
    "    grf = np.fft.ifftn(\n",
    "        np.sqrt(power(k2, gamma)) * \n",
    "                smooth_kernel * \n",
    "                np.fft.fftn(np.random.normal(0, 1, (L, L, L)))).real\n",
    "    return grf / np.std(grf)\n",
    "\n",
    "def gradient(data):\n",
    "    kRange = 2 * np.pi * np.fft.fftfreq(L)\n",
    "    kx, ky, kz = np.meshgrid(kRange, kRange, kRange)\n",
    "    \n",
    "    datax = -np.fft.ifftn(kx * np.fft.fftn(data)).imag\n",
    "    datay = -np.fft.ifftn(ky * np.fft.fftn(data)).imag\n",
    "    dataz = -np.fft.ifftn(kz * np.fft.fftn(data)).imag\n",
    "    \n",
    "    return np.transpose(np.array([datax, datay, dataz]),(1,2,3,0))\n",
    "\n",
    "def Zeldovich(grf, D):\n",
    "    velocities = gradient(grf)\n",
    "    X, Y, Z = np.meshgrid(np.arange(L), np.arange(L), np.arange(L))\n",
    "    points = np.transpose(np.array([X, Y, Z]), (1,2,3,0)) + D * velocities\n",
    "    return (points.reshape(L**3, 3), velocities.reshape(L**3, 3))\n",
    "\n",
    "grf = GRF(L, 1, 8)\n",
    "points, velocities = Zeldovich(grf, 20)\n",
    "m = np.ones(len(points))"
   ]
  },
  {
   "cell_type": "markdown",
   "id": "yellow-sudan",
   "metadata": {},
   "source": [
    "Example"
   ]
  },
  {
   "cell_type": "code",
   "execution_count": 3,
   "id": "differential-heavy",
   "metadata": {},
   "outputs": [
    {
     "name": "stdout",
     "output_type": "stream",
     "text": [
      "Delaunay Tesselation Field Estimator initialization:\n",
      "\t-Evaluate Delaunay tessellation\n",
      "\t-Evaluate density estimate\n",
      "\t-Evaluate gradients\n",
      "CPU times: user 2min 2s, sys: 2.52 s, total: 2min 4s\n",
      "Wall time: 2min 4s\n"
     ]
    }
   ],
   "source": [
    "%%time\n",
    "dtfe = DTFE(points, velocities, m)"
   ]
  },
  {
   "cell_type": "code",
   "execution_count": 5,
   "id": "peripheral-restriction",
   "metadata": {},
   "outputs": [],
   "source": [
    "import matplotlib.pyplot as plt\n",
    "def densPlot(data, imageSize):\n",
    "    X = np.arange(0, data.shape[0])\n",
    "    Y = np.arange(0, data.shape[1])\n",
    "    X, Y = np.meshgrid(X, Y)\n",
    "\n",
    "    plt.figure(figsize=(imageSize, imageSize))\n",
    "    plt.pcolormesh(X, Y, data, shading='auto')\n",
    "    plt.axis(\"equal\")\n",
    "    plt.show()"
   ]
  },
  {
   "cell_type": "code",
   "execution_count": 7,
   "id": "terminal-modem",
   "metadata": {},
   "outputs": [
    {
     "name": "stdout",
     "output_type": "stream",
     "text": [
      "CPU times: user 2min 17s, sys: 36.9 s, total: 2min 54s\n",
      "Wall time: 1min 2s\n"
     ]
    }
   ],
   "source": [
    "%%time\n",
    "n = int(4 * L)\n",
    "X, Y = np.meshgrid(np.arange(0.1 * L, 0.9 * L, 0.8 * L / n),   \n",
    "                   np.arange(0.1 * L, 0.9 * L, 0.8 * L / n))\n",
    "\n",
    "dens  = dtfe.density(X.flat, Y.flat, np.full_like(X, int(L / 2)).flat).reshape((n,n))\n",
    "densPlot(np.log(dens), 5)"
   ]
  },
  {
   "cell_type": "code",
   "execution_count": 4,
   "id": "trying-cricket",
   "metadata": {},
   "outputs": [],
   "source": [
    "%%time\n",
    "n = int(4 * L)\n",
    "X, Y, Z = np.meshgrid(np.arange(0.1 * L, 0.9 * L, 0.8 * L / n),\n",
    "                      np.arange(0.1 * L, 0.9 * L, 0.8 * L / n),\n",
    "                      np.arange(0.1 * L, 0.9 * L, 0.8 * L / n))\n",
    "\n",
    "dens  = dtfe.density(X.flat, Y.flat, Z.flat).reshape((n,n,n))\n",
    "vel   = dtfe.v(X.flat, Y.flat, Z.flat).reshape((n,n,n,3))\n",
    "div   = dtfe.theta(X.flat, Y.flat, Z.flat).reshape((n,n,n))\n",
    "shear = dtfe.sigma(X.flat, Y.flat, Z.flat).reshape((n,n,n,3,3))\n",
    "curl  = dtfe.omega(X.flat, Y.flat, Z.flat).reshape((n,n,n,3,3))"
   ]
  }
 ],
 "metadata": {
  "kernelspec": {
   "display_name": "Python 3",
   "language": "python",
   "name": "python3"
  },
  "language_info": {
   "codemirror_mode": {
    "name": "ipython",
    "version": 3
   },
   "file_extension": ".py",
   "mimetype": "text/x-python",
   "name": "python",
   "nbconvert_exporter": "python",
   "pygments_lexer": "ipython3",
   "version": "3.9.2"
  }
 },
 "nbformat": 4,
 "nbformat_minor": 5
}
